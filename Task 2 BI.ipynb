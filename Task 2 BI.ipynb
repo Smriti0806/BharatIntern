{
 "cells": [
  {
   "cell_type": "code",
   "execution_count": null,
   "id": "ca76f4ad",
   "metadata": {},
   "outputs": [],
   "source": [
    "import pandas as pd\n",
    "import seaborn as sns\n",
    "from matplotlib import pyplot as plt\n",
    "from sklearn.model_selection import train_test_split\n",
    "from sklearn.linear_model import LinearRegression\n",
    "from sklearn.metrics import mean_squared_error, r2_score\n",
    "\n",
    "# Step 1: Load the wine quality dataset\n",
    "wine_data = pd.read_csv('WineQT.csv')\n",
    "\n",
    "# Step 2: Select features (all columns except 'quality') and target ('quality')\n",
    "X = wine_data.drop('quality', axis=1)\n",
    "y = wine_data['quality']\n",
    "\n",
    "# Step 3: Split the dataset into training and testing sets\n",
    "X_train, X_test, y_train, y_test = train_test_split(X, y, test_size=0.2, random_state=42)\n",
    "\n",
    "# Step 4: Train a linear regression model\n",
    "model = LinearRegression()\n",
    "model.fit(X_train, y_train)\n",
    "\n",
    "# Step 5: Make predictions on the test set\n",
    "predictions = model.predict(X_test)\n",
    "\n",
    "# Step 6: Calculate average wine quality for each alcohol level\n",
    "average_quality = wine_data.groupby('alcohol')['quality'].mean().reset_index()\n",
    "\n",
    "# Step 7: Create barplot\n",
    "plt.figure(figsize=(12, 8))\n",
    "sns.barplot(x='alcohol', y='quality', data=average_quality)\n",
    "plt.title('Average Wine Quality by Alcohol Level', fontsize=16)\n",
    "plt.xlabel('Alcohol Level', fontsize=14)\n",
    "plt.ylabel('Average Quality', fontsize=14)\n",
    "\n",
    "# Rotate x-axis labels for better readability\n",
    "plt.xticks(rotation=45)\n",
    "\n",
    "# Increase tick label font size\n",
    "plt.xticks(fontsize=12)\n",
    "plt.yticks(fontsize=12)\n",
    "\n",
    "# Step 8: Display linear regression results\n",
    "print(\"Linear Regression Results:\")\n",
    "print(\"Intercept:\", model.intercept_)\n",
    "print(\"Coefficients:\", model.coef_)\n",
    "print(\"Mean Squared Error (MSE):\", mean_squared_error(y_test, predictions))\n",
    "print(\"R-squared:\", r2_score(y_test, predictions))\n",
    "\n",
    "plt.show()\n"
   ]
  }
 ],
 "metadata": {
  "kernelspec": {
   "display_name": "Python 3 (ipykernel)",
   "language": "python",
   "name": "python3"
  },
  "language_info": {
   "codemirror_mode": {
    "name": "ipython",
    "version": 3
   },
   "file_extension": ".py",
   "mimetype": "text/x-python",
   "name": "python",
   "nbconvert_exporter": "python",
   "pygments_lexer": "ipython3",
   "version": "3.10.10"
  }
 },
 "nbformat": 4,
 "nbformat_minor": 5
}
